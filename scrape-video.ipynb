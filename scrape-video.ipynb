{
 "cells": [
  {
   "cell_type": "code",
   "execution_count": 2,
   "id": "977bd4b6",
   "metadata": {},
   "outputs": [
    {
     "name": "stdout",
     "output_type": "stream",
     "text": [
      "Loading channel: https://www.youtube.com/playlist?list=PLT4bryHgBcRP7N-hB9u6EWs6tq_2nMoRO\n",
      "Found 3 videos in channel: RC Tutorial Series\n",
      "Loading video: Connecting to HPC (https://www.youtube.com/watch?v=94qLtfdsXaM)\n",
      "Loading video: Open OnDemand Interactive Apps (https://www.youtube.com/watch?v=o9XVUhCQuEI)\n",
      "Loading video: Features of Open OnDemand (https://www.youtube.com/watch?v=MpzThi43iak)\n"
     ]
    }
   ],
   "source": [
    "from langchain_yt_dlp import YoutubeLoaderDL\n",
    "from langchain_community.document_loaders import YoutubeLoader\n",
    "from langchain_community.document_loaders.youtube import TranscriptFormat\n",
    "from yt_dlp import YoutubeDL\n",
    "\n",
    "# Load the video metadata and transcript\n",
    "def load_youtube_video(url):\n",
    "    metadata_loader = YoutubeLoaderDL.from_youtube_url(\n",
    "        url,\n",
    "        add_video_info=True,\n",
    "    )\n",
    "\n",
    "    transcript_loader = YoutubeLoader.from_youtube_url(\n",
    "        url,\n",
    "        add_video_info=False,\n",
    "        transcript_format=TranscriptFormat.CHUNKS\n",
    "    )\n",
    "\n",
    "    metadata_docs = metadata_loader.load()\n",
    "    transcript_docs = transcript_loader.load()\n",
    "\n",
    "    for i, doc in enumerate(transcript_docs):\n",
    "        doc.metadata.update(metadata_docs[0].metadata)\n",
    "        doc.metadata['source_type'] = 'youtube'\n",
    "        doc.metadata['chunk_number'] = i + 1\n",
    "    \n",
    "    return transcript_docs\n",
    "\n",
    "# Load all videos from a YouTube channel\n",
    "def load_youtube_channel(channel_url):\n",
    "    ydl_opts = {\n",
    "        'extract_flat': True,\n",
    "        'quiet': True,\n",
    "        'force_generic_extractor': True,\n",
    "    }\n",
    "\n",
    "    print(f\"Loading channel: {channel_url}\")\n",
    "\n",
    "    with YoutubeDL(ydl_opts) as ydl:\n",
    "        info = ydl.extract_info(channel_url, download=False)\n",
    "    \n",
    "    print(f\"Found {len(info.get('entries', []))} videos in channel: {info.get('title', 'Unknown Channel')}\")\n",
    "    \n",
    "    if 'entries' not in info:\n",
    "        raise ValueError(\"No entries found in the channel URL.\")\n",
    "    \n",
    "    documents = []\n",
    "    for entry in info['entries']:\n",
    "        video_url = entry['url']\n",
    "        print(f\"Loading video: {entry['title']} ({video_url})\")\n",
    "        docs = load_youtube_video(video_url)\n",
    "        documents.extend(docs)\n",
    "    \n",
    "    return documents\n",
    "\n",
    "# documents = load_youtube_channel('https://www.youtube.com/@UVAResearchComputing')\n",
    "documents = load_youtube_channel('https://www.youtube.com/playlist?list=PLT4bryHgBcRP7N-hB9u6EWs6tq_2nMoRO')"
   ]
  },
  {
   "cell_type": "code",
   "execution_count": 3,
   "id": "a8bb911b",
   "metadata": {},
   "outputs": [
    {
     "name": "stdout",
     "output_type": "stream",
     "text": [
      "Total unique video metadata entries: 3\n",
      "{'author': 'UVA Research Computing', 'channel_id': 'UCDjikQvnYrZ3aNIdKgU54ag', 'description': 'This short tutorial provides an overview of the various features available in Open OnDemand.\\n\\n*Important Links*\\nOpen OnDemand: https://ood.hpc.virginia.edu/\\nRC Learning: https://learning.rc.virginia.edu\\nMain RC Site: https://rc.virginia.edu', 'length': 611, 'publish_date': '2025-06-30', 'source': 'MpzThi43iak', 'source_type': 'youtube', 'title': 'Features of Open OnDemand', 'view_count': 7, 'webpage_url': 'https://www.youtube.com/watch?v=MpzThi43iak'}\n",
      "{'author': 'UVA Research Computing', 'channel_id': 'UCDjikQvnYrZ3aNIdKgU54ag', 'description': \"This short tutorial provides an overview of methods to connect to the University of Virginia's HPC systems, including Open OnDemand, FastX, and SSH.\\n\\n*Important Links*\\nOpen OnDemand: https://ood.hpc.virginia.edu/\\nFastX: https://fastx.hpc.virginia.edu/\\nUVA VPN: https://in.virginia.edu/vpn\\nRC Learning: https://learning.rc.virginia.edu\\nMain RC Site: https://rc.virginia.edu\\n\\n*Video Chapters*\\n0:00 Intro\\n0:39 Open OnDemand\\n2:09 FastX\\n4:20 SSH\\n5:51 VPN Info\\n6:02 Getting Help\", 'length': 411, 'publish_date': '2025-05-21', 'source': '94qLtfdsXaM', 'source_type': 'youtube', 'title': 'Connecting to HPC', 'view_count': 31, 'webpage_url': 'https://www.youtube.com/watch?v=94qLtfdsXaM'}\n",
      "{'author': 'UVA Research Computing', 'channel_id': 'UCDjikQvnYrZ3aNIdKgU54ag', 'description': 'This short tutorial provides an overview of the interactive apps available through Open OnDemand.\\n\\n*Important Links*\\nOpen OnDemand: https://ood.hpc.virginia.edu/\\nSlurm Partitions: https://learning.rc.virginia.edu/notes/slurm-from-cli/section1/#slurm-resource-requests\\nRC Learning: https://learning.rc.virginia.edu\\nMain RC Site: https://rc.virginia.edu\\n\\n*Video Chapters*\\n0:00 Intro\\n2:06 JupyterLab\\n8:08 RStudio\\n8:45 Desktop\\n9:38 MATLAB\\n10:10 Getting Help', 'length': 658, 'publish_date': '2025-06-15', 'source': 'o9XVUhCQuEI', 'source_type': 'youtube', 'title': 'Open OnDemand Interactive Apps', 'view_count': 21, 'webpage_url': 'https://www.youtube.com/watch?v=o9XVUhCQuEI'}\n"
     ]
    }
   ],
   "source": [
    "# print unique video metadatas\n",
    "import json\n",
    "\n",
    "unique_metadata = {json.dumps({k: v for k, v in d.metadata.items() if k not in ['chunk_number', 'start_seconds', 'start_timestamp']}, sort_keys=True) for d in documents}\n",
    "\n",
    "print(f\"Total unique video metadata entries: {len(unique_metadata)}\")\n",
    "\n",
    "for metadata in unique_metadata:\n",
    "    print(json.loads(metadata))"
   ]
  },
  {
   "cell_type": "code",
   "execution_count": 4,
   "id": "3753db49",
   "metadata": {},
   "outputs": [
    {
     "name": "stderr",
     "output_type": "stream",
     "text": [
      "Failed to send telemetry event ClientStartEvent: capture() takes 1 positional argument but 3 were given\n",
      "Failed to send telemetry event ClientCreateCollectionEvent: capture() takes 1 positional argument but 3 were given\n",
      "Failed to send telemetry event ClientCreateCollectionEvent: capture() takes 1 positional argument but 3 were given\n"
     ]
    }
   ],
   "source": [
    "from chromadb import PersistentClient\n",
    "from langchain_chroma import Chroma\n",
    "from langchain_ollama import OllamaEmbeddings\n",
    "\n",
    "CHROMA_PATH = \"./chroma\"\n",
    "COLLECTION_NAME = \"data\"\n",
    "\n",
    "embeddings = OllamaEmbeddings(\n",
    "    base_url=\"http://localhost:11434\",\n",
    "    model=\"qwen3\"\n",
    ")\n",
    "\n",
    "persistent_client = PersistentClient(\n",
    "    path=CHROMA_PATH,\n",
    ")\n",
    "\n",
    "collection = persistent_client.get_or_create_collection(name=COLLECTION_NAME)\n",
    "\n",
    "vector_store = Chroma(\n",
    "    client=persistent_client,\n",
    "    collection_name=COLLECTION_NAME,\n",
    "    embedding_function=embeddings,\n",
    ")\n",
    "\n",
    "# Add documents to the vector store\n",
    "def add_documents_to_vector_store(documents):\n",
    "    vector_store.add_documents(\n",
    "        documents=documents,\n",
    "        ids=[doc.metadata['source_type'] + \"_\" + doc.metadata['source'] + \"_\" + str(doc.metadata['chunk_number']) for doc in documents],\n",
    "    )\n",
    "    print(f\"Added {len(documents)} documents to the vector store.\")"
   ]
  },
  {
   "cell_type": "code",
   "execution_count": 5,
   "id": "8cef877e",
   "metadata": {},
   "outputs": [],
   "source": [
    "def document_to_id(doc):\n",
    "    return f\"{doc.metadata['source_type']}_{doc.metadata['source']}_{doc.metadata['chunk_number']}\".replace(\"/\", \"_\").replace(\":\", \"_\").replace(\"?\", \"_\").replace(\"#\", \"_\")"
   ]
  },
  {
   "cell_type": "code",
   "execution_count": 6,
   "id": "db2487a8",
   "metadata": {},
   "outputs": [
    {
     "name": "stdout",
     "output_type": "stream",
     "text": [
      "Documents to add: 16/16 total documents\n",
      "Processed batch 1/1\n"
     ]
    }
   ],
   "source": [
    "from langchain.text_splitter import RecursiveCharacterTextSplitter\n",
    "from langchain.retrievers import ParentDocumentRetriever\n",
    "from langchain_community.storage import SQLStore\n",
    "from langchain.storage._lc_store import create_kv_docstore\n",
    "\n",
    "DOCUMENT_STORE_URL = \"sqlite:///document_store.db\"\n",
    "DOCUMENT_STORE_NAMESPACE = \"website_documents\"\n",
    "\n",
    "BATCH_SIZE = 100\n",
    "\n",
    "child_splitter = RecursiveCharacterTextSplitter(\n",
    "    chunk_size=400,\n",
    "    chunk_overlap=200,\n",
    "    length_function=len,\n",
    ")\n",
    "\n",
    "sql_store = SQLStore(\n",
    "    namespace=DOCUMENT_STORE_NAMESPACE,\n",
    "    db_url=DOCUMENT_STORE_URL,\n",
    ")\n",
    "doc_store = create_kv_docstore(sql_store)\n",
    "\n",
    "retriever = ParentDocumentRetriever(\n",
    "    vectorstore=vector_store,\n",
    "    docstore=doc_store,\n",
    "    child_splitter=child_splitter,\n",
    ")\n",
    "\n",
    "to_add = [doc for doc in documents if sql_store.mget(keys=[document_to_id(doc)])[0] is None]\n",
    "print(f\"Documents to add: {len(to_add)}/{len(documents)} total documents\")\n",
    "\n",
    "# Add documents to the vector store in batches\n",
    "for i in range(0, len(to_add), BATCH_SIZE):\n",
    "    batch = to_add[i:i + BATCH_SIZE]\n",
    "    retriever.add_documents(documents=batch, ids=[document_to_id(doc) for doc in batch])\n",
    "    print(f\"Processed batch {i // BATCH_SIZE + 1}/{(len(to_add) + BATCH_SIZE - 1) // BATCH_SIZE}\")"
   ]
  }
 ],
 "metadata": {
  "kernelspec": {
   "display_name": "venv",
   "language": "python",
   "name": "python3"
  },
  "language_info": {
   "codemirror_mode": {
    "name": "ipython",
    "version": 3
   },
   "file_extension": ".py",
   "mimetype": "text/x-python",
   "name": "python",
   "nbconvert_exporter": "python",
   "pygments_lexer": "ipython3",
   "version": "3.10.0"
  }
 },
 "nbformat": 4,
 "nbformat_minor": 5
}
