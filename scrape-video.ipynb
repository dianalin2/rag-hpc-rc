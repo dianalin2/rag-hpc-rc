{
 "cells": [
  {
   "cell_type": "code",
   "execution_count": null,
   "id": "977bd4b6",
   "metadata": {},
   "outputs": [],
   "source": [
    "from langchain_yt_dlp import YoutubeLoaderDL\n",
    "from langchain_community.document_loaders import YoutubeLoader\n",
    "from langchain_community.document_loaders.youtube import TranscriptFormat\n",
    "from yt_dlp import YoutubeDL\n",
    "\n",
    "# Load the video metadata and transcript\n",
    "def load_youtube_video(url):\n",
    "    metadata_loader = YoutubeLoaderDL.from_youtube_url(\n",
    "        url,\n",
    "        add_video_info=True,\n",
    "    )\n",
    "\n",
    "    transcript_loader = YoutubeLoader.from_youtube_url(\n",
    "        url,\n",
    "        add_video_info=False,\n",
    "        transcript_format=TranscriptFormat.CHUNKS\n",
    "    )\n",
    "\n",
    "    metadata_docs = metadata_loader.load()\n",
    "    transcript_docs = transcript_loader.load()\n",
    "\n",
    "    for i, doc in enumerate(transcript_docs):\n",
    "        doc.metadata.update(metadata_docs[0].metadata)\n",
    "        doc.metadata['source_type'] = 'youtube'\n",
    "        doc.metadata['chunk_number'] = i + 1\n",
    "    \n",
    "    return transcript_docs\n",
    "\n",
    "# Load all videos from a YouTube channel\n",
    "def load_youtube_channel(channel_url):\n",
    "    ydl_opts = {\n",
    "        'extract_flat': True,\n",
    "        'quiet': True,\n",
    "        'force_generic_extractor': True,\n",
    "    }\n",
    "\n",
    "    print(f\"Loading channel: {channel_url}\")\n",
    "\n",
    "    with YoutubeDL(ydl_opts) as ydl:\n",
    "        info = ydl.extract_info(channel_url, download=False)\n",
    "    \n",
    "    print(f\"Found {len(info.get('entries', []))} videos in channel: {info.get('title', 'Unknown Channel')}\")\n",
    "    \n",
    "    if 'entries' not in info:\n",
    "        raise ValueError(\"No entries found in the channel URL.\")\n",
    "    \n",
    "    documents = []\n",
    "    for entry in info['entries']:\n",
    "        video_url = entry['url']\n",
    "        print(f\"Loading video: {entry['title']} ({video_url})\")\n",
    "        docs = load_youtube_video(video_url)\n",
    "        documents.extend(docs)\n",
    "    \n",
    "    return documents\n",
    "\n",
    "# documents = load_youtube_channel('https://www.youtube.com/@UVAResearchComputing')\n",
    "documents = load_youtube_channel('https://www.youtube.com/playlist?list=PLT4bryHgBcRP7N-hB9u6EWs6tq_2nMoRO')"
   ]
  },
  {
   "cell_type": "code",
   "execution_count": 2,
   "id": "a8bb911b",
   "metadata": {},
   "outputs": [
    {
     "ename": "NameError",
     "evalue": "name 'documents' is not defined",
     "output_type": "error",
     "traceback": [
      "\u001b[0;31m---------------------------------------------------------------------------\u001b[0m",
      "\u001b[0;31mNameError\u001b[0m                                 Traceback (most recent call last)",
      "Cell \u001b[0;32mIn[2], line 4\u001b[0m\n\u001b[1;32m      1\u001b[0m \u001b[38;5;66;03m# print unique video metadatas\u001b[39;00m\n\u001b[1;32m      2\u001b[0m \u001b[38;5;28;01mimport\u001b[39;00m\u001b[38;5;250m \u001b[39m\u001b[38;5;21;01mjson\u001b[39;00m\n\u001b[0;32m----> 4\u001b[0m unique_metadata \u001b[38;5;241m=\u001b[39m {json\u001b[38;5;241m.\u001b[39mdumps({k: v \u001b[38;5;28;01mfor\u001b[39;00m k, v \u001b[38;5;129;01min\u001b[39;00m d\u001b[38;5;241m.\u001b[39mmetadata\u001b[38;5;241m.\u001b[39mitems() \u001b[38;5;28;01mif\u001b[39;00m k \u001b[38;5;129;01mnot\u001b[39;00m \u001b[38;5;129;01min\u001b[39;00m [\u001b[38;5;124m'\u001b[39m\u001b[38;5;124mchunk_number\u001b[39m\u001b[38;5;124m'\u001b[39m, \u001b[38;5;124m'\u001b[39m\u001b[38;5;124mstart_seconds\u001b[39m\u001b[38;5;124m'\u001b[39m, \u001b[38;5;124m'\u001b[39m\u001b[38;5;124mstart_timestamp\u001b[39m\u001b[38;5;124m'\u001b[39m]}, sort_keys\u001b[38;5;241m=\u001b[39m\u001b[38;5;28;01mTrue\u001b[39;00m) \u001b[38;5;28;01mfor\u001b[39;00m d \u001b[38;5;129;01min\u001b[39;00m \u001b[43mdocuments\u001b[49m}\n\u001b[1;32m      6\u001b[0m \u001b[38;5;28mprint\u001b[39m(\u001b[38;5;124mf\u001b[39m\u001b[38;5;124m\"\u001b[39m\u001b[38;5;124mTotal unique video metadata entries: \u001b[39m\u001b[38;5;132;01m{\u001b[39;00m\u001b[38;5;28mlen\u001b[39m(unique_metadata)\u001b[38;5;132;01m}\u001b[39;00m\u001b[38;5;124m\"\u001b[39m)\n\u001b[1;32m      8\u001b[0m \u001b[38;5;28;01mfor\u001b[39;00m metadata \u001b[38;5;129;01min\u001b[39;00m unique_metadata:\n",
      "\u001b[0;31mNameError\u001b[0m: name 'documents' is not defined"
     ]
    }
   ],
   "source": [
    "# print unique video metadatas\n",
    "import json\n",
    "\n",
    "unique_metadata = {json.dumps({k: v for k, v in d.metadata.items() if k not in ['chunk_number', 'start_seconds', 'start_timestamp']}, sort_keys=True) for d in documents}\n",
    "\n",
    "print(f\"Total unique video metadata entries: {len(unique_metadata)}\")\n",
    "\n",
    "for metadata in unique_metadata:\n",
    "    print(json.loads(metadata))"
   ]
  },
  {
   "cell_type": "code",
   "execution_count": 3,
   "id": "3753db49",
   "metadata": {},
   "outputs": [
    {
     "name": "stderr",
     "output_type": "stream",
     "text": [
      "Failed to send telemetry event ClientStartEvent: capture() takes 1 positional argument but 3 were given\n",
      "Failed to send telemetry event ClientCreateCollectionEvent: capture() takes 1 positional argument but 3 were given\n",
      "Failed to send telemetry event ClientCreateCollectionEvent: capture() takes 1 positional argument but 3 were given\n"
     ]
    }
   ],
   "source": [
    "from chromadb import PersistentClient\n",
    "from langchain_chroma import Chroma\n",
    "from langchain_ollama import OllamaEmbeddings\n",
    "\n",
    "CHROMA_PATH = \"./chroma\"\n",
    "COLLECTION_NAME = \"data\"\n",
    "\n",
    "embeddings = OllamaEmbeddings(\n",
    "    base_url=\"http://localhost:11434\",\n",
    "    model=\"qwen3\"\n",
    ")\n",
    "\n",
    "persistent_client = PersistentClient(\n",
    "    path=CHROMA_PATH,\n",
    ")\n",
    "\n",
    "collection = persistent_client.get_or_create_collection(name=COLLECTION_NAME)\n",
    "\n",
    "vector_store = Chroma(\n",
    "    client=persistent_client,\n",
    "    collection_name=COLLECTION_NAME,\n",
    "    embedding_function=embeddings,\n",
    ")\n",
    "\n",
    "# Add documents to the vector store\n",
    "def add_documents_to_vector_store(documents):\n",
    "    vector_store.add_documents(\n",
    "        documents=documents,\n",
    "        ids=[doc.metadata['source_type'] + \"_\" + doc.metadata['source'] + \"_\" + str(doc.metadata['chunk_number']) for doc in documents],\n",
    "    )\n",
    "    print(f\"Added {len(documents)} documents to the vector store.\")"
   ]
  },
  {
   "cell_type": "code",
   "execution_count": null,
   "id": "db2487a8",
   "metadata": {},
   "outputs": [],
   "source": [
    "add_documents_to_vector_store(documents)"
   ]
  }
 ],
 "metadata": {
  "kernelspec": {
   "display_name": "venv",
   "language": "python",
   "name": "python3"
  },
  "language_info": {
   "codemirror_mode": {
    "name": "ipython",
    "version": 3
   },
   "file_extension": ".py",
   "mimetype": "text/x-python",
   "name": "python",
   "nbconvert_exporter": "python",
   "pygments_lexer": "ipython3",
   "version": "3.12.9"
  }
 },
 "nbformat": 4,
 "nbformat_minor": 5
}
