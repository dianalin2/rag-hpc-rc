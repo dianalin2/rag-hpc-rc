{
 "cells": [
  {
   "cell_type": "code",
   "execution_count": null,
   "id": "186e1792-bc59-4465-8e6a-1cde29614cc6",
   "metadata": {},
   "outputs": [],
   "source": [
    "#Tables for lookups \n",
    "months=[0,3,3,5,1,4,6,2,6,0,3,5]\n",
    "month_names=[\"Jan\",\"Feb\",\"Mar\",\"Apr\",\"May\",\"Jun\",\"Jul\",\"Aug\",\"Sep\",\"Oct\",\"Nov\",\"Dec\"]\n",
    "days=[\"Sunday\",\"Monday\",\"Tuesday\",\"Wednesday\",\"Thursday\",\"Friday\",\"Saturday\"]\n"
   ]
  },
  {
   "cell_type": "code",
   "execution_count": 24,
   "id": "ea6ab98e-9b14-4547-a87f-734955b2ee7f",
   "metadata": {},
   "outputs": [],
   "source": [
    "\n",
    "def DoW(day, month, year):\n",
    "\n",
    "     D=day\n",
    "     M=months[month-1]\n",
    "     century = 100*(year//100)  #integer division\n",
    "     Y=year-century\n",
    "     L = Y//4  #integer division\n",
    "\n",
    "     century_leap_year= century%400==0\n",
    "     if century_leap_year:\n",
    "         L+=1\n",
    "\n",
    "     leap_year = (century_leap_year) or (year%4==0 and year%100 > 0)\n",
    "     if leap_year and month<3:\n",
    "         L -= 1\n",
    "  \n",
    "     if century==1400 or century==1800 or century==2200:\n",
    "         C=2\n",
    "     elif century==1500 or century==1900 or century==2300:\n",
    "         C=0\n",
    "     elif century==1600 or century==2000 or century==2400:\n",
    "         C=5\n",
    "     elif century==1700 or century==2100 or century==2500:\n",
    "         C=4\n",
    "     else:\n",
    "         print(\"This algorithm doesn't cover the century requested\")\n",
    "         C=-1\n",
    "     W=(C+Y+L+M+D)%7\n",
    "     return days[W]\n"
   ]
  },
  {
   "cell_type": "code",
   "execution_count": 18,
   "id": "2b6f22f4-b88f-4f58-81fb-15efa0998d94",
   "metadata": {},
   "outputs": [
    {
     "name": "stdout",
     "output_type": "stream",
     "text": [
      "The day of the week is Monday\n"
     ]
    }
   ],
   "source": [
    "day  =30\n",
    "month=5\n",
    "year =2016\n",
    "day_of_week=DoW(day,month,year)\n",
    "\n",
    "print(\"The day of the week is\", day_of_week)\n"
   ]
  },
  {
   "cell_type": "code",
   "execution_count": 26,
   "id": "b9436f30-cd0f-4e04-bb0c-08a7d72fbe02",
   "metadata": {},
   "outputs": [
    {
     "name": "stdout",
     "output_type": "stream",
     "text": [
      "\n",
      "\n",
      "Testing first of each month\n",
      "For Jan the day of the week is Friday\n",
      "For Feb the day of the week is Monday\n",
      "For Mar the day of the week is Tuesday\n",
      "For Apr the day of the week is Thursday\n",
      "For May the day of the week is Sunday\n",
      "For Jun the day of the week is Wednesday\n",
      "For Jul the day of the week is Friday\n",
      "For Aug the day of the week is Monday\n",
      "For Sep the day of the week is Friday\n",
      "For Oct the day of the week is Saturday\n",
      "For Nov the day of the week is Tuesday\n",
      "For Dec the day of the week is Thursday\n"
     ]
    }
   ],
   "source": [
    "print(\"\\n\\nTesting first of each month\")\n",
    "day = 1\n",
    "month = 1\n",
    "while month < 13:\n",
    "    print(\"For {:} the day of the week is {:}\".format(month_names[month-1], DoW(day, month, year)))\n",
    "    month += 1\n"
   ]
  },
  {
   "cell_type": "code",
   "execution_count": null,
   "id": "4faea6fe-13eb-4f9c-a430-4371aab1c70c",
   "metadata": {},
   "outputs": [],
   "source": []
  }
 ],
 "metadata": {
  "kernelspec": {
   "display_name": "Python 3 (ipykernel)",
   "language": "python",
   "name": "python3"
  },
  "language_info": {
   "codemirror_mode": {
    "name": "ipython",
    "version": 3
   },
   "file_extension": ".py",
   "mimetype": "text/x-python",
   "name": "python",
   "nbconvert_exporter": "python",
   "pygments_lexer": "ipython3",
   "version": "3.9.12"
  }
 },
 "nbformat": 4,
 "nbformat_minor": 5
}
