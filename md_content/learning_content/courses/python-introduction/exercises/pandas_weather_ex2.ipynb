{
 "cells": [
  {
   "cell_type": "code",
   "execution_count": null,
   "id": "2517dcff-b430-451c-93a7-9bc5ff20e353",
   "metadata": {},
   "outputs": [],
   "source": [
    "import numpy as np\n",
    "import matplotlib.pyplot as plt\n",
    "import pandas as pd"
   ]
  },
  {
   "cell_type": "code",
   "execution_count": null,
   "id": "0e3b0a4d-c4e1-444a-a08b-aef8e2884090",
   "metadata": {},
   "outputs": [],
   "source": [
    "weather=pd.read_csv(\"weather.csv\")"
   ]
  },
  {
   "cell_type": "code",
   "execution_count": null,
   "id": "7cffce34-08f7-4b3a-94d1-167d8dcd2210",
   "metadata": {},
   "outputs": [],
   "source": [
    "weather.describe()"
   ]
  },
  {
   "cell_type": "code",
   "execution_count": null,
   "id": "b2b8b046-36bd-485b-a26f-97f50bc37e2f",
   "metadata": {},
   "outputs": [],
   "source": [
    "weather.head(20)"
   ]
  },
  {
   "cell_type": "code",
   "execution_count": null,
   "id": "af943c12-998f-420d-bf00-38b65e57035c",
   "metadata": {},
   "outputs": [],
   "source": [
    "weather.columns"
   ]
  },
  {
   "cell_type": "code",
   "execution_count": null,
   "id": "3161192c-faa0-4411-8def-4410bf919de9",
   "metadata": {},
   "outputs": [],
   "source": [
    "weather.rename(columns={\"Data.Temperature.Avg Temp\":\"Data.AvgTemp\",\"Data.Temperature.Max Temp\":\"Data.MaxTemp\",\"Data.Temperature.Min Temp\":\"Data.MinTemp\"},inplace=True)"
   ]
  },
  {
   "cell_type": "code",
   "execution_count": null,
   "id": "71fdb86e-2443-4e62-9c4e-fe40bf9ae4bb",
   "metadata": {},
   "outputs": [],
   "source": [
    "weather.head()"
   ]
  },
  {
   "cell_type": "code",
   "execution_count": null,
   "id": "13d78022-8afc-4795-9351-5cb4fba3eb8a",
   "metadata": {},
   "outputs": [],
   "source": [
    "weather['Data.AvgTemp'].mean()"
   ]
  },
  {
   "cell_type": "code",
   "execution_count": null,
   "id": "b56d8271-b8b1-47c0-be8e-0060fddb3feb",
   "metadata": {},
   "outputs": [],
   "source": [
    "for i in range(len(weather)):\n",
    "    if \"Richmond\" in weather.loc[i,'Station.Location']:\n",
    "        code=weather.loc[i,'Station.Code']\n",
    "        break"
   ]
  },
  {
   "cell_type": "code",
   "execution_count": null,
   "id": "8e8ca508-9c1d-45cc-a322-46be40749b95",
   "metadata": {},
   "outputs": [],
   "source": [
    "rva_weather=weather.where(weather[\"Station.Code\"]==code).dropna()"
   ]
  },
  {
   "cell_type": "code",
   "execution_count": null,
   "id": "fa951596-c901-47f4-8d7c-48a637214d82",
   "metadata": {},
   "outputs": [],
   "source": [
    "print(f'{rva_weather[\"Data.AvgTemp\"].mean():.2f},{rva_weather[\"Data.MinTemp\"].mean():.2f},{rva_weather[\"Data.MaxTemp\"].mean():.2f}')"
   ]
  },
  {
   "cell_type": "code",
   "execution_count": null,
   "id": "68679f4c-6b62-4638-ab90-2c6b7d2b9089",
   "metadata": {},
   "outputs": [],
   "source": [
    "cold=rva_weather[\"Data.MinTemp\"]<32"
   ]
  },
  {
   "cell_type": "code",
   "execution_count": null,
   "id": "1c22b786-36be-4673-9584-af6fefd66e69",
   "metadata": {},
   "outputs": [],
   "source": [
    "cold.sum()"
   ]
  },
  {
   "cell_type": "code",
   "execution_count": null,
   "id": "2f4b5e2c-8a62-4eae-aecc-afaf563fe554",
   "metadata": {},
   "outputs": [],
   "source": []
  }
 ],
 "metadata": {
  "kernelspec": {
   "display_name": "Python 3 (ipykernel)",
   "language": "python",
   "name": "python3"
  },
  "language_info": {
   "codemirror_mode": {
    "name": "ipython",
    "version": 3
   },
   "file_extension": ".py",
   "mimetype": "text/x-python",
   "name": "python",
   "nbconvert_exporter": "python",
   "pygments_lexer": "ipython3",
   "version": "3.9.7"
  }
 },
 "nbformat": 4,
 "nbformat_minor": 5
}
