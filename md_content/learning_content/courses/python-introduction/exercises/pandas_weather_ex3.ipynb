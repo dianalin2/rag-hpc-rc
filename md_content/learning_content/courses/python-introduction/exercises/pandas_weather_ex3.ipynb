{
 "cells": [
  {
   "cell_type": "code",
   "execution_count": null,
   "id": "2517dcff-b430-451c-93a7-9bc5ff20e353",
   "metadata": {},
   "outputs": [],
   "source": [
    "import numpy as np\n",
    "import matplotlib.pyplot as plt\n",
    "import pandas as pd"
   ]
  },
  {
   "cell_type": "code",
   "execution_count": null,
   "id": "0e3b0a4d-c4e1-444a-a08b-aef8e2884090",
   "metadata": {},
   "outputs": [],
   "source": [
    "weather=pd.read_csv(\"weather.csv\")"
   ]
  },
  {
   "cell_type": "code",
   "execution_count": null,
   "id": "7cffce34-08f7-4b3a-94d1-167d8dcd2210",
   "metadata": {},
   "outputs": [],
   "source": [
    "weather.describe()"
   ]
  },
  {
   "cell_type": "code",
   "execution_count": null,
   "id": "b2b8b046-36bd-485b-a26f-97f50bc37e2f",
   "metadata": {},
   "outputs": [],
   "source": [
    "weather.head(20)"
   ]
  },
  {
   "cell_type": "code",
   "execution_count": null,
   "id": "af943c12-998f-420d-bf00-38b65e57035c",
   "metadata": {},
   "outputs": [],
   "source": [
    "weather.columns"
   ]
  },
  {
   "cell_type": "code",
   "execution_count": null,
   "id": "3161192c-faa0-4411-8def-4410bf919de9",
   "metadata": {},
   "outputs": [],
   "source": [
    "weather.rename(columns={\"Data.Temperature.Avg Temp\":\"Data.AvgTemp\",\"Data.Temperature.Max Temp\":\"Data.MaxTemp\",\"Data.Temperature.Min Temp\":\"Data.MinTemp\"},inplace=True)"
   ]
  },
  {
   "cell_type": "code",
   "execution_count": null,
   "id": "71fdb86e-2443-4e62-9c4e-fe40bf9ae4bb",
   "metadata": {},
   "outputs": [],
   "source": [
    "weather.head()"
   ]
  },
  {
   "cell_type": "code",
   "execution_count": null,
   "id": "13d78022-8afc-4795-9351-5cb4fba3eb8a",
   "metadata": {},
   "outputs": [],
   "source": [
    "weather['Data.AvgTemp'].mean()"
   ]
  },
  {
   "cell_type": "code",
   "execution_count": null,
   "id": "b56d8271-b8b1-47c0-be8e-0060fddb3feb",
   "metadata": {},
   "outputs": [],
   "source": [
    "for i in range(len(weather)):\n",
    "    if \"Richmond\" in weather.loc[i,'Station.Location']:\n",
    "        code=weather.loc[i,'Station.Code']\n",
    "        break"
   ]
  },
  {
   "cell_type": "code",
   "execution_count": null,
   "id": "8e8ca508-9c1d-45cc-a322-46be40749b95",
   "metadata": {},
   "outputs": [],
   "source": [
    "rva_weather=weather.where(weather[\"Station.Code\"]==code).dropna()"
   ]
  },
  {
   "cell_type": "code",
   "execution_count": null,
   "id": "fa951596-c901-47f4-8d7c-48a637214d82",
   "metadata": {},
   "outputs": [],
   "source": [
    "print(f'{rva_weather[\"Data.AvgTemp\"].mean():.2f},{rva_weather[\"Data.MinTemp\"].mean():.2f},{rva_weather[\"Data.MaxTemp\"].mean():.2f}')"
   ]
  },
  {
   "cell_type": "code",
   "execution_count": null,
   "id": "68679f4c-6b62-4638-ab90-2c6b7d2b9089",
   "metadata": {},
   "outputs": [],
   "source": [
    "cold=rva_weather[\"Data.MinTemp\"]<32"
   ]
  },
  {
   "cell_type": "code",
   "execution_count": null,
   "id": "1c22b786-36be-4673-9584-af6fefd66e69",
   "metadata": {},
   "outputs": [],
   "source": [
    "cold.sum()"
   ]
  },
  {
   "cell_type": "code",
   "execution_count": null,
   "id": "2f4b5e2c-8a62-4eae-aecc-afaf563fe554",
   "metadata": {},
   "outputs": [],
   "source": [
    "by_state=weather.groupby(\"Station.State\")"
   ]
  },
  {
   "cell_type": "code",
   "execution_count": null,
   "id": "1562c670-14b0-4441-bd8e-7a2f36f68f0b",
   "metadata": {},
   "outputs": [],
   "source": [
    "by_state.first()"
   ]
  },
  {
   "cell_type": "code",
   "execution_count": null,
   "id": "27d9056b-243a-40c9-9f79-85a6eebaad23",
   "metadata": {},
   "outputs": [],
   "source": [
    "de_inds=weather[weather[\"Station.State\"]==\"DE\"].index"
   ]
  },
  {
   "cell_type": "code",
   "execution_count": null,
   "id": "b7a87ede-a93f-4a0d-8ffc-1fcf3df5d756",
   "metadata": {},
   "outputs": [],
   "source": [
    "for s in de_inds:\n",
    "    weather[\"Station.State\"].loc[s]=\"Delaware\""
   ]
  },
  {
   "cell_type": "code",
   "execution_count": null,
   "id": "83ebb501-7981-4773-9829-3a2d859b6d15",
   "metadata": {},
   "outputs": [],
   "source": [
    "va_inds=weather[weather[\"Station.State\"]==\"VA\"].index"
   ]
  },
  {
   "cell_type": "code",
   "execution_count": null,
   "id": "e18a688d-0740-4f17-abcc-5f3aca49ba27",
   "metadata": {},
   "outputs": [],
   "source": [
    "for s in va_inds:\n",
    "    weather[\"Station.State\"].loc[s]=\"Virginia\""
   ]
  },
  {
   "cell_type": "code",
   "execution_count": null,
   "id": "37cb69cb-29a0-48ca-8e27-a0a57d50d136",
   "metadata": {},
   "outputs": [],
   "source": [
    "new_by_state=weather.groupby(\"Station.State\")"
   ]
  },
  {
   "cell_type": "code",
   "execution_count": null,
   "id": "cd047d3a-b12b-4e28-8d34-07631ded5de1",
   "metadata": {},
   "outputs": [],
   "source": [
    "avg_temp=new_by_state[\"Data.AvgTemp\"].mean().round(2)"
   ]
  },
  {
   "cell_type": "code",
   "execution_count": null,
   "id": "4ecc3a8b-a683-4a3e-a365-d6718b0ed123",
   "metadata": {},
   "outputs": [],
   "source": [
    "min_temp=new_by_state[\"Data.MinTemp\"].mean().round(2)"
   ]
  },
  {
   "cell_type": "code",
   "execution_count": null,
   "id": "61894168-217b-4de0-a5f2-d321d46149c1",
   "metadata": {},
   "outputs": [],
   "source": [
    "max_temp=new_by_state[\"Data.MaxTemp\"].mean().round(2)"
   ]
  },
  {
   "cell_type": "code",
   "execution_count": null,
   "id": "1d4942c8-6b4f-445b-8c93-6a555fae706e",
   "metadata": {},
   "outputs": [],
   "source": [
    "results=pd.concat([avg_temp,min_temp,max_temp],axis=1)"
   ]
  },
  {
   "cell_type": "code",
   "execution_count": null,
   "id": "106a790a-1d9b-4acc-95df-26b6fec0c967",
   "metadata": {},
   "outputs": [],
   "source": [
    "results.columns=[\"Mean Avg Temp\",\"Mean Min Temp\",\"Mean Max Temp\"]"
   ]
  },
  {
   "cell_type": "code",
   "execution_count": null,
   "id": "9f160f5f-ecb4-42e0-841b-3c112b1b2fc7",
   "metadata": {},
   "outputs": [],
   "source": [
    "results"
   ]
  },
  {
   "cell_type": "code",
   "execution_count": null,
   "id": "f4a70766-677d-4662-9c92-f2ca754e1c89",
   "metadata": {},
   "outputs": [],
   "source": [
    "coldest=results[\"Mean Avg Temp\"].min()\n",
    "results.loc[results[\"Mean Avg Temp\"]==coldest]"
   ]
  },
  {
   "cell_type": "code",
   "execution_count": null,
   "id": "89cc833d-8b03-461e-9360-59ab37e3693d",
   "metadata": {},
   "outputs": [],
   "source": [
    "hottest=results[\"Mean Avg Temp\"].max()\n",
    "results.loc[results[\"Mean Avg Temp\"]==hottest]"
   ]
  },
  {
   "cell_type": "code",
   "execution_count": null,
   "id": "007e820c-e52a-42eb-a1ff-4b3a5b6cdd41",
   "metadata": {},
   "outputs": [],
   "source": [
    "results.sort_values(by=\"Mean Avg Temp\",ascending=False)"
   ]
  },
  {
   "cell_type": "code",
   "execution_count": null,
   "id": "0b5bb1a7-ac30-4d09-9099-2eaece522521",
   "metadata": {},
   "outputs": [],
   "source": []
  }
 ],
 "metadata": {
  "kernelspec": {
   "display_name": "Python 3 (ipykernel)",
   "language": "python",
   "name": "python3"
  },
  "language_info": {
   "codemirror_mode": {
    "name": "ipython",
    "version": 3
   },
   "file_extension": ".py",
   "mimetype": "text/x-python",
   "name": "python",
   "nbconvert_exporter": "python",
   "pygments_lexer": "ipython3",
   "version": "3.9.7"
  }
 },
 "nbformat": 4,
 "nbformat_minor": 5
}
